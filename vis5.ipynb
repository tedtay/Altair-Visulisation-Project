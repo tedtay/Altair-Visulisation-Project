{
 "cells": [
  {
   "cell_type": "markdown",
   "id": "stopped-coupon",
   "metadata": {},
   "source": [
    "# Vis 5\n",
    "##  Data Processing"
   ]
  },
  {
   "cell_type": "code",
   "execution_count": 1,
   "id": "compliant-venue",
   "metadata": {},
   "outputs": [
    {
     "name": "stdout",
     "output_type": "stream",
     "text": [
      "locs.shape =  (40463, 25)\n",
      "places.shape =  (37737, 26)\n",
      "names.shape =  (34133, 26)\n",
      "capitals.shape =  (245, 6)\n"
     ]
    }
   ],
   "source": [
    "import altair as alt\n",
    "import json\n",
    "from altair import datum\n",
    "from vega_datasets import data\n",
    "import numpy as np\n",
    "import requests\n",
    "import pandas as pd\n",
    "import json\n",
    "from geopy.geocoders import Nominatim\n",
    "import pprint\n",
    "import csv\n",
    "from collections import Counter\n",
    "pp = pprint.PrettyPrinter(indent=4)\n",
    "\n",
    "locs = pd.read_csv('./pleiades-locations-latest.csv')\n",
    "places = pd.read_csv('./pleiades-places-latest.csv')\n",
    "names = pd.read_csv('./pleiades-names-latest.csv')\n",
    "\n",
    "capitals = pd.read_json('http://techslides.com/demos/country-capitals.json')\n",
    "\n",
    "\n",
    "print(\"locs.shape = \",locs.shape)\n",
    "print(\"places.shape = \",places.shape)\n",
    "print(\"names.shape = \",names.shape)\n",
    "print(\"capitals.shape = \",capitals.shape)"
   ]
  },
  {
   "cell_type": "code",
   "execution_count": 2,
   "id": "threatened-thought",
   "metadata": {},
   "outputs": [
    {
     "data": {
      "text/plain": [
       "DataTransformerRegistry.enable('default')"
      ]
     },
     "execution_count": 2,
     "metadata": {},
     "output_type": "execute_result"
    }
   ],
   "source": [
    "alt.data_transformers.disable_max_rows()"
   ]
  },
  {
   "cell_type": "markdown",
   "id": "informative-making",
   "metadata": {},
   "source": [
    "## Data Prep"
   ]
  },
  {
   "cell_type": "code",
   "execution_count": 3,
   "id": "printable-grade",
   "metadata": {},
   "outputs": [],
   "source": [
    "def getCountry(reprLatLong):\n",
    "    geolocator = Nominatim(user_agent=\"my-appliation\")\n",
    "    location = geolocator.reverse(reprLatLong)\n",
    "    local = location.address\n",
    "    localCSV = local.split(',')\n",
    "    return localCSV[-1]\n",
    "    print(localCSV[-1])"
   ]
  },
  {
   "cell_type": "code",
   "execution_count": 4,
   "id": "junior-virgin",
   "metadata": {},
   "outputs": [
    {
     "data": {
      "text/plain": [
       "(1846, 25)"
      ]
     },
     "execution_count": 4,
     "metadata": {},
     "output_type": "execute_result"
    }
   ],
   "source": [
    "settlementFilter=locs.featureType==(\"settlement\")\n",
    "settlementData = locs[settlementFilter]\n",
    "settlementPoints = settlementData[1:settlementData.size:10]\n",
    "settlementData.shape"
   ]
  },
  {
   "cell_type": "code",
   "execution_count": 5,
   "id": "earned-estonia",
   "metadata": {},
   "outputs": [
    {
     "name": "stdout",
     "output_type": "stream",
     "text": [
      "43             37.5966266,-4.3084564\n",
      "433              34.006821,-6.821498\n",
      "741                36.50978,1.308828\n",
      "859      36.5945343511,2.44289145652\n",
      "1112     37.6665931729,32.8282455857\n",
      "                    ...             \n",
      "39301             49.894591,2.302064\n",
      "39405              50.40064,5.376434\n",
      "39714            49.437202,10.121086\n",
      "39875            48.151667,11.643889\n",
      "39970    31.9509005802,45.6233775029\n",
      "Name: reprLatLong, Length: 185, dtype: object\n"
     ]
    },
    {
     "ename": "AttributeError",
     "evalue": "'NoneType' object has no attribute 'address'",
     "output_type": "error",
     "traceback": [
      "\u001b[1;31m---------------------------------------------------------------------------\u001b[0m",
      "\u001b[1;31mAttributeError\u001b[0m                            Traceback (most recent call last)",
      "\u001b[1;32m<ipython-input-5-360dfc5044ef>\u001b[0m in \u001b[0;36m<module>\u001b[1;34m\u001b[0m\n\u001b[0;32m      7\u001b[0m \u001b[0mcountryCoords\u001b[0m \u001b[1;33m=\u001b[0m \u001b[1;33m[\u001b[0m\u001b[1;33m]\u001b[0m\u001b[1;33m\u001b[0m\u001b[1;33m\u001b[0m\u001b[0m\n\u001b[0;32m      8\u001b[0m \u001b[1;32mfor\u001b[0m \u001b[0mi\u001b[0m \u001b[1;32min\u001b[0m \u001b[0msettlementCoords\u001b[0m\u001b[1;33m:\u001b[0m\u001b[1;33m\u001b[0m\u001b[1;33m\u001b[0m\u001b[0m\n\u001b[1;32m----> 9\u001b[1;33m     \u001b[0mcountryCoords\u001b[0m\u001b[1;33m.\u001b[0m\u001b[0mappend\u001b[0m\u001b[1;33m(\u001b[0m\u001b[0mgetCountry\u001b[0m\u001b[1;33m(\u001b[0m\u001b[0mi\u001b[0m\u001b[1;33m)\u001b[0m\u001b[1;33m)\u001b[0m\u001b[1;33m\u001b[0m\u001b[1;33m\u001b[0m\u001b[0m\n\u001b[0m\u001b[0;32m     10\u001b[0m \u001b[1;33m\u001b[0m\u001b[0m\n\u001b[0;32m     11\u001b[0m \u001b[0mpp\u001b[0m\u001b[1;33m.\u001b[0m\u001b[0mpprint\u001b[0m \u001b[1;33m(\u001b[0m\u001b[0mcountryCoords\u001b[0m\u001b[1;33m)\u001b[0m\u001b[1;33m\u001b[0m\u001b[1;33m\u001b[0m\u001b[0m\n",
      "\u001b[1;32m<ipython-input-3-de9b7094f514>\u001b[0m in \u001b[0;36mgetCountry\u001b[1;34m(reprLatLong)\u001b[0m\n\u001b[0;32m      2\u001b[0m     \u001b[0mgeolocator\u001b[0m \u001b[1;33m=\u001b[0m \u001b[0mNominatim\u001b[0m\u001b[1;33m(\u001b[0m\u001b[0muser_agent\u001b[0m\u001b[1;33m=\u001b[0m\u001b[1;34m\"my-appliation\"\u001b[0m\u001b[1;33m)\u001b[0m\u001b[1;33m\u001b[0m\u001b[1;33m\u001b[0m\u001b[0m\n\u001b[0;32m      3\u001b[0m     \u001b[0mlocation\u001b[0m \u001b[1;33m=\u001b[0m \u001b[0mgeolocator\u001b[0m\u001b[1;33m.\u001b[0m\u001b[0mreverse\u001b[0m\u001b[1;33m(\u001b[0m\u001b[0mreprLatLong\u001b[0m\u001b[1;33m)\u001b[0m\u001b[1;33m\u001b[0m\u001b[1;33m\u001b[0m\u001b[0m\n\u001b[1;32m----> 4\u001b[1;33m     \u001b[0mlocal\u001b[0m \u001b[1;33m=\u001b[0m \u001b[0mlocation\u001b[0m\u001b[1;33m.\u001b[0m\u001b[0maddress\u001b[0m\u001b[1;33m\u001b[0m\u001b[1;33m\u001b[0m\u001b[0m\n\u001b[0m\u001b[0;32m      5\u001b[0m     \u001b[0mlocalCSV\u001b[0m \u001b[1;33m=\u001b[0m \u001b[0mlocal\u001b[0m\u001b[1;33m.\u001b[0m\u001b[0msplit\u001b[0m\u001b[1;33m(\u001b[0m\u001b[1;34m','\u001b[0m\u001b[1;33m)\u001b[0m\u001b[1;33m\u001b[0m\u001b[1;33m\u001b[0m\u001b[0m\n\u001b[0;32m      6\u001b[0m     \u001b[1;32mreturn\u001b[0m \u001b[0mlocalCSV\u001b[0m\u001b[1;33m[\u001b[0m\u001b[1;33m-\u001b[0m\u001b[1;36m1\u001b[0m\u001b[1;33m]\u001b[0m\u001b[1;33m\u001b[0m\u001b[1;33m\u001b[0m\u001b[0m\n",
      "\u001b[1;31mAttributeError\u001b[0m: 'NoneType' object has no attribute 'address'"
     ]
    }
   ],
   "source": [
    "# ## sendding data to file\n",
    "\n",
    "settlementCoords = settlementPoints.reprLatLong\n",
    "settlementCoords.tolist()[:]\n",
    "pp.pprint (settlementCoords)\n",
    "\n",
    "countryCoords = []\n",
    "for i in settlementCoords:\n",
    "    countryCoords.append(getCountry(i))\n",
    "    \n",
    "pp.pprint (countryCoords)\n",
    "\n"
   ]
  },
  {
   "cell_type": "code",
   "execution_count": null,
   "id": "commercial-steal",
   "metadata": {},
   "outputs": [],
   "source": [
    "# len(countryCoords)"
   ]
  },
  {
   "cell_type": "code",
   "execution_count": null,
   "id": "nasty-suspect",
   "metadata": {},
   "outputs": [],
   "source": [
    "with open('1301.1846', 'wt',encoding=\"utf-8\") as myfile:\n",
    "    wr = csv.writer(myfile, quoting=csv.QUOTE_ALL)\n",
    "    wr.writerow(countryCoords)"
   ]
  },
  {
   "cell_type": "code",
   "execution_count": null,
   "id": "successful-upper",
   "metadata": {},
   "outputs": [],
   "source": []
  },
  {
   "cell_type": "markdown",
   "id": "continuous-wallace",
   "metadata": {},
   "source": [
    "## Visulisation"
   ]
  },
  {
   "cell_type": "code",
   "execution_count": null,
   "id": "toxic-awareness",
   "metadata": {},
   "outputs": [],
   "source": [
    "# data manually copied in from outputted csv files using getCountry function with the settlemnet data\n",
    "apperance=[#1-400\n",
    "'Spain','Morocco','Algeria','Algeria','Turkey','France','France','Algeria','Libya','Italy','Turkey','Greece','Turkey','Turkey','Turkey','Turkey','Turkey','Turkey','Turkey','Turkey','Turkey','Turkey','Turkey','Turkey','Kashmir','Bulgaria','Romania','Romania','Italy','Israel','Algeria','Tunisia','Tunisia','Tunisia','Tunisia','Tunisia','Syria','Lebanon','Lebanon','Israel',\n",
    "#500-900\n",
    "'Egypt','Greece','Kashmir','Greece','Turkey','Turkey','Turkey','Turkey','Italy','Italy','Italy','Italy','Italy','Italy','Iraq','Greece','Greece','Greece','Turkey','Turkey','Turkey','Italy','Italy','Italy','Turkey','Turkey','Turkey','Turkey','Turkey','Syria','Turkey','Italy','Italy','Iraq','United Kingdom','United Kingdom','United Kingdom','United Kingdom','United Kingdom','Syria',\n",
    "#901-1300\n",
    "'Turkey','Turkey','Turkey','Turkey','Algeria','Libya','Greece','Greece','Greece','Italy','Iran','Iraq','India','Spain','Spain','Italy','Turkey','Greece','Greece','Albania','Macedonia','Armenia','Iraq','France','France','Macedonia','Greece','Greece','Greece','Italy','Turkey','Tunisia','Tunisia','France','Switzerland','France','Switzerland','Hungary','Croatia','Egypt',\n",
    "#1301-1846\n",
    "'Turkey','Iraq','Syria','Iraq','Iran','Afghanistan','Lebanon','Turkey','Turkey','Syria','Syria','Syria','Israel','Jordan','Germany','France','France','France','France','Portugal','Spain','United Kingdom','Italy','Romania','Iran','Turkey','Israel','France','Turkey','Italy','Italy','Italy','Italy','Italy','Italy','Portugal','Spain','France','France','Spain','Syria','Iraq','Iraq','Iran','France','Germany','France','Belgium','Germany','France','France','Belgium','Germany','Germany','Iraq']"
   ]
  },
  {
   "cell_type": "code",
   "execution_count": null,
   "id": "serious-clarity",
   "metadata": {},
   "outputs": [],
   "source": [
    "#for manual hist\n",
    "apperanceDist = list(dict.fromkeys(apperance))\n",
    "apperanceCount = list(Counter(apperance).values())"
   ]
  },
  {
   "cell_type": "code",
   "execution_count": null,
   "id": "muslim-diagram",
   "metadata": {},
   "outputs": [],
   "source": [
    "# b = [i for i in range(len(apperance))]\n",
    "\n",
    "# print (\"list.len = \", len(apperance))\n",
    "# print (\"b.len = \", len(b))"
   ]
  },
  {
   "cell_type": "code",
   "execution_count": null,
   "id": "mechanical-frank",
   "metadata": {},
   "outputs": [],
   "source": [
    "#auto histogram (auto filters distincy countrys and counts)\n",
    "# data = pd.DataFrame({'CountryApperance': apperance})\n",
    "\n",
    "# alt.Chart(data).mark_bar().encode(\n",
    "#     x='CountryApperance',\n",
    "#     y='count(CountryApperance)'\n",
    "# )"
   ]
  },
  {
   "cell_type": "code",
   "execution_count": null,
   "id": "sharp-acquisition",
   "metadata": {},
   "outputs": [],
   "source": [
    "#manual histogram\n",
    "df = pd.DataFrame({'Country': apperanceDist,\n",
    "                     'Settlement Rate (x 10)': apperanceCount})\n",
    "\n",
    "histo = alt.Chart(df).mark_bar().encode(\n",
    "    x='Country',\n",
    "    y='Settlement Rate (x 10)',\n",
    "    tooltip=['Settlement Rate (x 10):Q'],\n",
    ")"
   ]
  },
  {
   "cell_type": "code",
   "execution_count": null,
   "id": "introductory-count",
   "metadata": {},
   "outputs": [],
   "source": [
    "matrix = np.c_[apperanceDist,apperanceCount]\n",
    "matrix.shape\n",
    "matrix\n",
    "#matrix[:,[1]]\n",
    "#matrix[:,[0]]"
   ]
  },
  {
   "cell_type": "code",
   "execution_count": null,
   "id": "northern-milan",
   "metadata": {},
   "outputs": [],
   "source": [
    "#prerequisites\n",
    "centerVal = [-20,60]\n",
    "scaleVal = 350\n",
    "\n",
    "mapData = alt.topo_feature(\"https://vega.github.io/vega/data/world-110m.json\",'countries')\n",
    "mapDataWithCountryNames= alt.topo_feature(\"https://raw.githubusercontent.com/johan/world.geo.json/master/countries.geo.json\",'id')\n",
    "source = pd.read_csv('./choro.csv')\n"
   ]
  },
  {
   "cell_type": "code",
   "execution_count": null,
   "id": "color-instrument",
   "metadata": {},
   "outputs": [],
   "source": [
    "choro= alt.Chart(source).mark_geoshape().encode(\n",
    "    shape='geo:G',\n",
    "    color='Settlement Rate (x 10):Q',\n",
    "    tooltip=['Settlement Rate (x 10):Q'],\n",
    ").transform_lookup(\n",
    "    lookup='id',\n",
    "    from_=alt.LookupData(data=mapData, key='id'),\n",
    "    as_='geo'\n",
    ").properties(\n",
    "    width=500,\n",
    "    height=300\n",
    ").project(\n",
    "    center = centerVal,\n",
    "    scale=scaleVal,\n",
    ")\n",
    "\n",
    "\n",
    "histo | (choro)"
   ]
  },
  {
   "cell_type": "code",
   "execution_count": null,
   "id": "acoustic-brick",
   "metadata": {},
   "outputs": [],
   "source": []
  },
  {
   "cell_type": "code",
   "execution_count": null,
   "id": "loving-makeup",
   "metadata": {},
   "outputs": [],
   "source": []
  },
  {
   "cell_type": "code",
   "execution_count": null,
   "id": "operating-chicago",
   "metadata": {},
   "outputs": [],
   "source": []
  },
  {
   "cell_type": "code",
   "execution_count": null,
   "id": "center-accident",
   "metadata": {},
   "outputs": [],
   "source": []
  },
  {
   "cell_type": "code",
   "execution_count": null,
   "id": "royal-gardening",
   "metadata": {},
   "outputs": [],
   "source": []
  },
  {
   "cell_type": "code",
   "execution_count": null,
   "id": "filled-solution",
   "metadata": {},
   "outputs": [],
   "source": []
  },
  {
   "cell_type": "code",
   "execution_count": null,
   "id": "southwest-score",
   "metadata": {},
   "outputs": [],
   "source": []
  },
  {
   "cell_type": "code",
   "execution_count": null,
   "id": "differential-seating",
   "metadata": {},
   "outputs": [],
   "source": []
  },
  {
   "cell_type": "code",
   "execution_count": null,
   "id": "received-magazine",
   "metadata": {},
   "outputs": [],
   "source": []
  },
  {
   "cell_type": "code",
   "execution_count": null,
   "id": "motivated-domain",
   "metadata": {},
   "outputs": [],
   "source": []
  },
  {
   "cell_type": "code",
   "execution_count": null,
   "id": "nuclear-study",
   "metadata": {},
   "outputs": [],
   "source": []
  },
  {
   "cell_type": "code",
   "execution_count": null,
   "id": "peripheral-conservative",
   "metadata": {},
   "outputs": [],
   "source": []
  },
  {
   "cell_type": "code",
   "execution_count": null,
   "id": "informal-plastic",
   "metadata": {},
   "outputs": [],
   "source": []
  },
  {
   "cell_type": "code",
   "execution_count": null,
   "id": "going-modeling",
   "metadata": {},
   "outputs": [],
   "source": []
  },
  {
   "cell_type": "code",
   "execution_count": null,
   "id": "whole-spider",
   "metadata": {},
   "outputs": [],
   "source": []
  },
  {
   "cell_type": "code",
   "execution_count": null,
   "id": "checked-sheffield",
   "metadata": {},
   "outputs": [],
   "source": []
  }
 ],
 "metadata": {
  "kernelspec": {
   "display_name": "Python 3",
   "language": "python",
   "name": "python3"
  },
  "language_info": {
   "codemirror_mode": {
    "name": "ipython",
    "version": 3
   },
   "file_extension": ".py",
   "mimetype": "text/x-python",
   "name": "python",
   "nbconvert_exporter": "python",
   "pygments_lexer": "ipython3",
   "version": "3.8.0"
  }
 },
 "nbformat": 4,
 "nbformat_minor": 5
}
